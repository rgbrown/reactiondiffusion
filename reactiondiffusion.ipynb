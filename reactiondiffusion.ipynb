{
 "metadata": {
  "name": "",
  "signature": "sha256:37ca47f7a9853e0defd3a30ca784f35806d874e41b4baee3937c127ebbd4c1b2"
 },
 "nbformat": 3,
 "nbformat_minor": 0,
 "worksheets": [
  {
   "cells": [
    {
     "cell_type": "heading",
     "level": 1,
     "metadata": {},
     "source": [
      "Reaction diffusion: porting to Python and experimentation"
     ]
    },
    {
     "cell_type": "code",
     "collapsed": false,
     "input": [
      "import numpy as np\n",
      "import matplotlib.pyplot as plt\n",
      "import scipy.sparse\n",
      "from scipy.integrate import odeint, ode\n",
      "%matplotlib inline"
     ],
     "language": "python",
     "metadata": {},
     "outputs": [],
     "prompt_number": 34
    },
    {
     "cell_type": "heading",
     "level": 2,
     "metadata": {},
     "source": [
      "Warmup: Finite difference solver"
     ]
    },
    {
     "cell_type": "markdown",
     "metadata": {},
     "source": [
      "### The Brusselator\n",
      "The Brusselator is a simple PDE system that is capable of exhibiting some fairly complex behaviour. We use the following PDE description which allows for spatially varying parameters $a(x)$ and $b(x)$\n",
      "\\begin{align}\n",
      "    \\phi_t &= D_\\phi \\phi_{xx} + a(x) + \\phi^2\\psi - (b(x) + 1)\\phi \\\\\n",
      "    \\psi_t &= D_\\phi \\phi_{xx} + b(x) \\phi - \\phi^2 \\psi\n",
      "\\end{align}\n",
      "We complete the problem with boundary conditions:\n",
      "\\begin{align}\n",
      "    &\\phi_x(-1, t) = \\phi_x(1, t) = 0, & &\\psi_x(-1, t) = \\psi_x(1, t) = 0 \\\\\n",
      "    &\\phi(x, 0) = 1, & &\\psi(x, 0) = f(x).\n",
      "\\end{align}\n",
      "Let's define some functions $a(x), b(x), f(x)$:"
     ]
    },
    {
     "cell_type": "code",
     "collapsed": false,
     "input": [
      "def a(x): return np.ones(x.shape)\n",
      "def b(x): return 2 - x\n",
      "def f(x): return b(x) + 0.2*np.sin(4*np.pi*x)\n",
      "D_phi = 1e-3\n",
      "\n",
      "x = np.linspace(-1, 1, 200)\n",
      "plt.plot(x, a(x), x, b(x), x, f(x))\n",
      "plt.legend(('$a(x)$', '$b(x)$', '$f(x)$'))"
     ],
     "language": "python",
     "metadata": {},
     "outputs": [
      {
       "metadata": {},
       "output_type": "pyout",
       "prompt_number": 15,
       "text": [
        "<matplotlib.legend.Legend at 0x109c61b50>"
       ]
      },
      {
       "metadata": {},
       "output_type": "display_data",
       "png": "[encoded data removed]",
       "text": [
        "<matplotlib.figure.Figure at 0x109c61c90>"
       ]
      }
     ],
     "prompt_number": 15
    },
    {
     "cell_type": "markdown",
     "metadata": {},
     "source": [
      "#### Kinetics\n",
      "Kinetics can be time-varying and space-varying, so we specify them as a function of `U, t, x`, where `U` represents the matrix of state variables at position `x` at time `t`. \n",
      "\n",
      "#### Inputs:\n",
      "* `U` is assumed to be of the form\n",
      "\\begin{equation}\n",
      "    U = \\begin{bmatrix}\n",
      "        \\phi_0 & \\psi_0 \\\\\n",
      "        \\phi_1 & \\psi_1 \\\\\n",
      "        \\vdots & \\vdots \\\\\n",
      "        \\phi_{n-1} & \\psi_{n-1}\n",
      "    \\end{bmatrix}\n",
      "\\end{equation}\n",
      "\n",
      "* `t` is a scalar\n",
      "\n",
      "* `x` is a vector of $n$ spatial coordinates"
     ]
    },
    {
     "cell_type": "code",
     "collapsed": false,
     "input": [
      "def kinetics(u, t, x):\n",
      "    return np.vstack((a(x) + u[:, 0]**2 * u[:, 1] - (b(x) + 1) * u[:, 0],\n",
      "                      b(x) * u[:, 0] - u[:, 0]**2 * u[:, 1])).T"
     ],
     "language": "python",
     "metadata": {},
     "outputs": [],
     "prompt_number": 16
    },
    {
     "cell_type": "markdown",
     "metadata": {},
     "source": [
      "#### Discretisation\n",
      "For now, we just set up the second derivative operator with assumed Neumann boundary conditions, *i.e.*\n",
      "\\begin{equation}\n",
      "    D^{(2)} = \\frac{1}{h^2}\\begin{bmatrix}\n",
      "        -2 & 2 \\\\\n",
      "        1  & -2 &  1 \\\\\n",
      "           &  1 & -2 & 1 \\\\\n",
      "           &    &  \\ddots & \\ddots & \\ddots \\\\\n",
      "           &    &         & 1      & -2 & 1 \\\\\n",
      "           &    &         &        &  1 & -2 & 1 \\\\\n",
      "           &    &         &        &    &  2 & -2\n",
      "       \\end{bmatrix}\n",
      "\\end{equation}\n",
      "           "
     ]
    },
    {
     "cell_type": "code",
     "collapsed": false,
     "input": [
      "def diff2(npts, h=1.):\n",
      "    \"\"\"\n",
      "    Create second derivative finite difference matrix, assuming Neumann boundary conditions\n",
      "    \"\"\"\n",
      "    diags = [np.zeros(npts) + 1., np.zeros(npts) - 2., np.zeros(npts) + 1.]\n",
      "    diags[0][1] = 2.\n",
      "    diags[2][-2] = 2.\n",
      "    return 1/(h**2) * scipy.sparse.dia_matrix((diags, [1, 0, -1]), shape=(npts,npts))"
     ],
     "language": "python",
     "metadata": {},
     "outputs": [],
     "prompt_number": 17
    },
    {
     "cell_type": "markdown",
     "metadata": {},
     "source": [
      "### Now, to set up the ODE stuff\n",
      "To stack the state variables as a single vector we order them as\n",
      "\\begin{equation*}\n",
      "    \\mathbf{u} = \\begin{bmatrix}\n",
      "        \\phi_0, \\psi_0, \\phi_1, \\psi_1, \\ldots, \\phi_{n-1}, \\psi_{n-1}\n",
      "    \\end{bmatrix}^T\n",
      "\\end{equation*}\n",
      "When the RHS function for the ODE is called it follows the following steps\n",
      "* Create a new view of the input vector in the `n x 2` shape\n",
      "* Compute the kinetics \n",
      "\n",
      "\n",
      "\n"
     ]
    },
    {
     "cell_type": "code",
     "collapsed": false,
     "input": [
      "npts = 1001\n",
      "x = np.linspace(-1, 1, npts)\n",
      "h = (x[-1] - x[0]) / (npts - 1)\n",
      "diff_op = D_phi * diff2(npts, h)\n",
      "\n",
      "u0 = (np.array([np.zeros(npts) + 1., f(x)]).T).flatten()\n",
      "\n",
      "def rhs(u, t):\n",
      "    U = u.reshape((npts, 2))\n",
      "    du = kinetics(U, t, x) \n",
      "    du[:, 0] = du[:, 0] + diff_op.dot(U[:, 0])\n",
      "    return du.flatten()\n",
      "    "
     ],
     "language": "python",
     "metadata": {},
     "outputs": [],
     "prompt_number": 36
    },
    {
     "cell_type": "code",
     "collapsed": false,
     "input": [
      "nt = 1000\n",
      "tf = 40.\n",
      "t = np.linspace(0, tf, nt)\n"
     ],
     "language": "python",
     "metadata": {},
     "outputs": [],
     "prompt_number": 37
    },
    {
     "cell_type": "code",
     "collapsed": false,
     "input": [
      "# Simulate using odeint (implicit)\n",
      "U = odeint(rhs, u0, t).T"
     ],
     "language": "python",
     "metadata": {},
     "outputs": []
    },
    {
     "cell_type": "code",
     "collapsed": false,
     "input": [
      "def rhs2(t, u):\n",
      "    return rhs(u, t)\n",
      "\n",
      "U = np.zeros((nt, 2*npts))\n",
      "U[0, :] = u0\n",
      "r = ode(rhs2).set_integrator('dopri5')\n",
      "r.set_initial_value(u0, t[0])\n",
      "for i in range(1, nt):\n",
      "    r.integrate(t[i])\n",
      "    if not r.successful():\n",
      "        break\n",
      "    U[i, :] = r.y\n",
      "U = U.T"
     ],
     "language": "python",
     "metadata": {},
     "outputs": [],
     "prompt_number": 46
    },
    {
     "cell_type": "code",
     "collapsed": false,
     "input": [
      "img = plt.imshow(U[1::2,:], extent=[0, tf, x[0], x[-1]], aspect='auto')\n",
      "img.set_cmap('hot')\n",
      "soln.shape"
     ],
     "language": "python",
     "metadata": {},
     "outputs": [
      {
       "metadata": {},
       "output_type": "pyout",
       "prompt_number": 47,
       "text": [
        "(1002, 1000)"
       ]
      },
      {
       "metadata": {},
       "output_type": "display_data",
       "png": "[encoded data removed]",
       "text": [
        "<matplotlib.figure.Figure at 0x10a89ab50>"
       ]
      }
     ],
     "prompt_number": 47
    },
    {
     "cell_type": "markdown",
     "metadata": {},
     "source": [
      "#### Sparse Jacobian estimation\n",
      "We code up the greedy Curtiss, Powell, Reid (1974) algorithm:\n",
      "\n",
      "When we perform an evaluation for a group, the perturbed $\\mathbf{x}$ vector will look like this:\n",
      "\\begin{equation}\n",
      "    \\mathbf{f}\\left(\\mathbf{x} + \\sum_{i \\in \\mathcal{K}} h_i \\mathbf{e}_i\\right)\n",
      "\\end{equation}\n",
      "We can find the appropriate entries in the Jacobian easily, because we have the list of columns $\\mathcal{K}$, so we can pluck out each column $j \\in \\mathcal{K}$ in turn, find the rows we need from the CSC format matrix, and then put those entries of $\\mathbf{df}$ into the appropriate matrix spot.\n",
      "\n",
      "This could be made more efficient by constructing an index vector that inserts the values straight into the `data` field of the matrix\n",
      "\n",
      "When computing the numerical derivatives, just using basic central differences (see Numerical Recipes, 3rd Ed, p230)"
     ]
    },
    {
     "cell_type": "code",
     "collapsed": false,
     "input": [
      "def get_rows(A, j):\n",
      "    assert scipy.sparse.isspmatrix_csc(A)\n",
      "    return A.indices[A.indptr[j]:A.indptr[j+1]]\n",
      "\n",
      "class NumericalJacobian:\n",
      "    def __init__(self, fun, J_Pattern):\n",
      "        # This assertion should possibly be switched with a cast\n",
      "        if scipy.sparse.isspmatrix_csc(J_Pattern):\n",
      "            self.jac = J_Pattern.copy()\n",
      "        else:\n",
      "            self.jac = scipy.sparse.csc_matrix(J_Pattern)\n",
      "        self.fun = fun\n",
      "        \n",
      "        self.compute_grouping()\n",
      "        \n",
      "    def compute_grouping(self):\n",
      "        # Create a list of lists of columns\n",
      "        self.groups = [[]]\n",
      "        self.rows = [set()]\n",
      "        \n",
      "        m, n = self.jac.shape\n",
      "        for j in range(n):\n",
      "            # Pull out the row indices for the nonzeros in column j\n",
      "            jrows = get_rows(self.jac, j)\n",
      "            \n",
      "            new_grp_required = True\n",
      "            for idx, grp in enumerate(self.groups):\n",
      "                # Test whether rows are in in group\n",
      "                if len(self.rows[idx].intersection(jrows)) == 0:\n",
      "                    # Add to group, and break\n",
      "                    grp.append(j)\n",
      "                    self.rows[idx].update(jrows) # Set union \n",
      "                    new_grp_required = False\n",
      "                    break\n",
      "            # If we get to here, we need a new group\n",
      "            if new_grp_required:\n",
      "                self.groups.append([j])\n",
      "                self.rows.append(set(jrows))\n",
      "    \n",
      "    def evaluate_jac(self, x):\n",
      "        # First compute the step sizes : this should possibly be multiplied by abs(x) or something\n",
      "        h = np.finfo('float').eps **(1./3.)\n",
      "        ei = np.zeros(x.shape)\n",
      "        \n",
      "        for idx, grp in enumerate(self.groups):\n",
      "            ei[grp] = h\n",
      "            df = (self.fun(x + ei) - self.fun(x - ei)) / (2*h)\n",
      "            for j in grp:\n",
      "                I = get_rows(self.jac, j)\n",
      "                self.jac.data[self.jac.indptr[j]:self.jac.indptr[j+1]] = df[I]\n",
      "            ei[grp] = 0.\n",
      "                \n",
      "    \n",
      "                "
     ],
     "language": "python",
     "metadata": {},
     "outputs": [],
     "prompt_number": 204
    },
    {
     "cell_type": "code",
     "collapsed": false,
     "input": [
      "def myfun(x):\n",
      "    f = np.zeros(x.shape)\n",
      "    f[0] = x[0] * x[1]\n",
      "    f[1] = x[0]**2 + x[1]**2\n",
      "    f[2] = x[1]*x[2]**2\n",
      "    return f\n",
      "\n",
      "x = np.array([1., 1.5, 7.])\n",
      "pattern = np.ones((3,3))\n",
      "pattern[0,2] = 0\n",
      "pattern[2,0] = 0\n",
      "pattern[1,2] = 0\n",
      "J = NumericalJacobian(myfun, pattern)\n",
      "J.evaluate_jac(x)\n",
      "print J.jac.todense()\n"
     ],
     "language": "python",
     "metadata": {},
     "outputs": [
      {
       "output_type": "stream",
       "stream": "stdout",
       "text": [
        "[  1.81663634e-05   2.42218178e-05   2.54329087e-04]\n",
        "[  1.21109089e-05   3.63327267e-05   5.93434536e-04]\n",
        "[[  1.5   1.    0. ]\n",
        " [  2.    3.    0. ]\n",
        " [  0.   49.   21. ]]\n"
       ]
      }
     ],
     "prompt_number": 209
    },
    {
     "cell_type": "code",
     "collapsed": false,
     "input": [
      "J.rows, J.groups"
     ],
     "language": "python",
     "metadata": {},
     "outputs": [
      {
       "metadata": {},
       "output_type": "pyout",
       "prompt_number": 210,
       "text": [
        "([{0, 1, 2}, {0, 1, 2}], [[0, 2], [1]])"
       ]
      }
     ],
     "prompt_number": 210
    }
   ],
   "metadata": {}
  }
 ]
}