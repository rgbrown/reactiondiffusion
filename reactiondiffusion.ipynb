{
 "metadata": {
  "name": "",
  "signature": "sha256:7101bde278769a04e7a5650dc29899ffb2981718501d281eb872b8422e6a9b66"
 },
 "nbformat": 3,
 "nbformat_minor": 0,
 "worksheets": [
  {
   "cells": [
    {
     "cell_type": "heading",
     "level": 1,
     "metadata": {},
     "source": [
      "Reaction diffusion: porting to Python and experimentation"
     ]
    },
    {
     "cell_type": "code",
     "collapsed": false,
     "input": [
      "import numpy as np\n",
      "import matplotlib.pyplot as plt\n",
      "import scipy\n",
      "%matplotlib inline"
     ],
     "language": "python",
     "metadata": {},
     "outputs": [],
     "prompt_number": 4
    },
    {
     "cell_type": "heading",
     "level": 2,
     "metadata": {},
     "source": [
      "Warmup: Finite difference solver"
     ]
    },
    {
     "cell_type": "markdown",
     "metadata": {},
     "source": [
      "### The Brusselator\n",
      "The Brusselator is a simple PDE system that is capable of exhibiting some fairly complex behaviour. We use the following PDE description which allows for spatially varying parameters $a(x)$ and $b(x)$\n",
      "\\begin{align}\n",
      "    \\phi_t &= D_\\phi \\phi_{xx} + a(x) + \\phi^2\\psi - (b(x) + 1)\\phi \\\\\n",
      "    \\psi_t &= D_\\phi \\phi_{xx} + b(x) \\phi - \\phi^2 \\psi\n",
      "\\end{align}\n",
      "We complete the problem with boundary conditions:\n",
      "\\begin{align}\n",
      "    &\\phi_x(-1, t) = \\phi_x(1, t) = 0, & &\\psi_x(-1, t) = \\psi_x(1, t) = 0 \\\\\n",
      "    &\\phi(x, 0) = 1, & &\\psi(x, 0) = f(x).\n",
      "\\end{align}\n",
      "Let's define some functions $a(x), b(x), f(x)$:"
     ]
    },
    {
     "cell_type": "code",
     "collapsed": false,
     "input": [
      "def a(x): return np.ones(x.shape)\n",
      "def b(x): return 2 - x\n",
      "def f(x): return 0.2*np.sin(4*np.pi*x)\n",
      "\n",
      "x = np.linspace(-1, 1, 200)\n",
      "plt.plot(x, a(x), x, b(x), x, f(x))\n",
      "plt.legend(('$a(x)$', '$b(x)$', '$f(x)$'))"
     ],
     "language": "python",
     "metadata": {},
     "outputs": [
      {
       "metadata": {},
       "output_type": "pyout",
       "prompt_number": 11,
       "text": [
        "<matplotlib.legend.Legend at 0x1067b26d0>"
       ]
      },
      {
       "metadata": {},
       "output_type": "display_data",
       "png": "[encoded data removed]",
       "text": [
        "<matplotlib.figure.Figure at 0x1067b2050>"
       ]
      }
     ],
     "prompt_number": 11
    },
    {
     "cell_type": "markdown",
     "metadata": {},
     "source": [
      "#### Kinetics\n",
      "Kinetics can be time-varying and space-varying, so we specify them as a function of `u, t, x`, where `u` represents the vector of state variables at position `x` at time `t`. If `t` or `x` are arrays (of the same size), then there will be one `u` vector for each `t, x` pair."
     ]
    },
    {
     "cell_type": "code",
     "collapsed": false,
     "input": [
      "def kinetics(u, t, x):\n",
      "    return np.vstack((a(x) + u[:, 0]**2 * u[:, 1] - (b(x) + 1) * u[:,1],\n",
      "                      b(x) * u[:,0] - u[:,0]**2 * u[:,1])).T"
     ],
     "language": "python",
     "metadata": {},
     "outputs": [],
     "prompt_number": 13
    }
   ],
   "metadata": {}
  }
 ]
}