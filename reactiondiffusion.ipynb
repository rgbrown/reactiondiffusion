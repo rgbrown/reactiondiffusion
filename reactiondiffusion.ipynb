{
 "metadata": {
  "name": "",
  "signature": "sha256:c633b669f89608b4c1216131751ecb3fa7c084d31d974249ac807067642693bc"
 },
 "nbformat": 3,
 "nbformat_minor": 0,
 "worksheets": [
  {
   "cells": [
    {
     "cell_type": "heading",
     "level": 1,
     "metadata": {},
     "source": [
      "Reaction diffusion: porting to Python and experimentation"
     ]
    },
    {
     "cell_type": "code",
     "collapsed": false,
     "input": [
      "import numpy as np\n",
      "import matplotlib.pyplot as plt\n",
      "import scipy.sparse\n",
      "from scipy.integrate import odeint\n",
      "%matplotlib inline"
     ],
     "language": "python",
     "metadata": {},
     "outputs": [],
     "prompt_number": 2
    },
    {
     "cell_type": "heading",
     "level": 2,
     "metadata": {},
     "source": [
      "Warmup: Finite difference solver"
     ]
    },
    {
     "cell_type": "markdown",
     "metadata": {},
     "source": [
      "### The Brusselator\n",
      "The Brusselator is a simple PDE system that is capable of exhibiting some fairly complex behaviour. We use the following PDE description which allows for spatially varying parameters $a(x)$ and $b(x)$\n",
      "\\begin{align}\n",
      "    \\phi_t &= D_\\phi \\phi_{xx} + a(x) + \\phi^2\\psi - (b(x) + 1)\\phi \\\\\n",
      "    \\psi_t &= D_\\phi \\phi_{xx} + b(x) \\phi - \\phi^2 \\psi\n",
      "\\end{align}\n",
      "We complete the problem with boundary conditions:\n",
      "\\begin{align}\n",
      "    &\\phi_x(-1, t) = \\phi_x(1, t) = 0, & &\\psi_x(-1, t) = \\psi_x(1, t) = 0 \\\\\n",
      "    &\\phi(x, 0) = 1, & &\\psi(x, 0) = f(x).\n",
      "\\end{align}\n",
      "Let's define some functions $a(x), b(x), f(x)$:"
     ]
    },
    {
     "cell_type": "code",
     "collapsed": false,
     "input": [
      "def a(x): return np.ones(x.shape)\n",
      "def b(x): return 2 - x\n",
      "def f(x): return 0.2*np.sin(4*np.pi*x)\n",
      "D_phi = 1e-3\n",
      "\n",
      "x = np.linspace(-1, 1, 200)\n",
      "plt.plot(x, a(x), x, b(x), x, f(x))\n",
      "plt.legend(('$a(x)$', '$b(x)$', '$f(x)$'))"
     ],
     "language": "python",
     "metadata": {},
     "outputs": [
      {
       "metadata": {},
       "output_type": "pyout",
       "prompt_number": 12,
       "text": [
        "<matplotlib.legend.Legend at 0x10749aa10>"
       ]
      },
      {
       "metadata": {},
       "output_type": "display_data",
       "png": "[encoded data removed]",
       "text": [
        "<matplotlib.figure.Figure at 0x107805e50>"
       ]
      }
     ],
     "prompt_number": 12
    },
    {
     "cell_type": "markdown",
     "metadata": {},
     "source": [
      "#### Kinetics\n",
      "Kinetics can be time-varying and space-varying, so we specify them as a function of `u, t, x`, where `u` represents the vector of state variables at position `x` at time `t`. If `t` or `x` are arrays (of the same size), then there will be one `u` vector for each `t, x` pair."
     ]
    },
    {
     "cell_type": "code",
     "collapsed": false,
     "input": [
      "def kinetics(u, t, x):\n",
      "    return np.vstack((a(x) + u[:, 0]**2 * u[:, 1] - (b(x) + 1) * u[:, 1],\n",
      "                      b(x) * u[:, 0] - u[:, 0]**2 * u[:, 1])).T"
     ],
     "language": "python",
     "metadata": {},
     "outputs": [],
     "prompt_number": 4
    },
    {
     "cell_type": "markdown",
     "metadata": {},
     "source": [
      "#### Discretisation\n",
      "We'll now set up our discretisation - easiest way is probably to specify the number of grid points, and figure out our step `h` from this:"
     ]
    },
    {
     "cell_type": "code",
     "collapsed": false,
     "input": [
      "def diff2(npts):\n",
      "    \"\"\"\n",
      "    Create second derivative finite difference matrix, assuming Neumann boundary conditions\n",
      "    \"\"\"\n",
      "    diags = [np.zeros(npts) + 1., np.zeros(npts) - 2., np.zeros(npts) + 1.]\n",
      "    diags[0][1] = 2.\n",
      "    diags[2][-2] = 2.\n",
      "    return scipy.sparse.dia_matrix((diags, [1, 0, -1]), shape=(npts,npts))"
     ],
     "language": "python",
     "metadata": {},
     "outputs": [],
     "prompt_number": 5
    },
    {
     "cell_type": "markdown",
     "metadata": {},
     "source": [
      "### Now, to set up the ODE stuff\n",
      "We need to set up a right-hand side function, and initial conditions. This should be pretty straightforward\n",
      "\n",
      "\n",
      "\n"
     ]
    },
    {
     "cell_type": "code",
     "collapsed": false,
     "input": [
      "npts = 101\n",
      "x = np.linspace(-1, 1, npts)\n",
      "h = (x[-1] - x[0]) / (npts - 1)\n",
      "diff_op = D_phi / (h**2) * diff2(npts)\n",
      "\n",
      "u0 = np.array([np.zeros(npts) + 1., f(x)]).T\n",
      "def rhs(u, t):\n",
      "    u_r = u.reshape((npts, 2))\n",
      "    du = kinetics(u_r, t, x) \n",
      "    du[:, 0] = du[:, 0] + diff_op.dot(u_r[:, 0])\n",
      "    return du.flatten()\n",
      "    "
     ],
     "language": "python",
     "metadata": {},
     "outputs": [],
     "prompt_number": 24
    },
    {
     "cell_type": "code",
     "collapsed": false,
     "input": [
      "t = np.linspace(0, 100, 100)\n",
      "soln = odeint(rhs, u0.flatten(), t)\n",
      "_ = plt.imshow(soln.T)"
     ],
     "language": "python",
     "metadata": {},
     "outputs": [
      {
       "output_type": "stream",
       "stream": "stdout",
       "text": [
        "Excess work done on this call (perhaps wrong Dfun type).\n",
        "Run with full_output = 1 to get quantitative information.\n"
       ]
      },
      {
       "metadata": {},
       "output_type": "display_data",
       "png": "[encoded data removed]",
       "text": [
        "<matplotlib.figure.Figure at 0x109dbae50>"
       ]
      }
     ],
     "prompt_number": 25
    }
   ],
   "metadata": {}
  }
 ]
}