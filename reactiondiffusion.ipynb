{
 "metadata": {
  "name": "",
  "signature": "sha256:6e04829618beb1796874f153f41319805c3fdb5a6dacff24da58ba29b5eef581"
 },
 "nbformat": 3,
 "nbformat_minor": 0,
 "worksheets": [
  {
   "cells": [
    {
     "cell_type": "heading",
     "level": 1,
     "metadata": {},
     "source": [
      "Reaction diffusion: porting to Python and experimentation"
     ]
    },
    {
     "cell_type": "code",
     "collapsed": false,
     "input": [
      "import numpy as np\n",
      "import matplotlib.pyplot as plt\n",
      "import scipy.sparse\n",
      "from scipy.integrate import odeint, ode\n",
      "%matplotlib inline"
     ],
     "language": "python",
     "metadata": {},
     "outputs": [],
     "prompt_number": 4
    },
    {
     "cell_type": "code",
     "collapsed": false,
     "input": [
      "def get_rows(A, j):\n",
      "    assert scipy.sparse.isspmatrix_csc(A)\n",
      "    return A.indices[A.indptr[j]:A.indptr[j+1]]\n",
      "\n",
      "class NumericalJacobian:\n",
      "    def __init__(self, fun, J_Pattern):\n",
      "        # This assertion should possibly be switched with a cast\n",
      "        if scipy.sparse.isspmatrix_csc(J_Pattern):\n",
      "            self.jac = J_Pattern.copy()\n",
      "        else:\n",
      "            self.jac = scipy.sparse.csc_matrix(J_Pattern)\n",
      "        self.fun = fun\n",
      "        \n",
      "        self.compute_grouping()\n",
      "        \n",
      "    def compute_grouping(self):\n",
      "        # Create a list of lists of columns\n",
      "        self.groups = [[]]\n",
      "        self.rows = [set()]\n",
      "        \n",
      "        m, n = self.jac.shape\n",
      "        for j in range(n):\n",
      "            # Pull out the row indices for the nonzeros in column j\n",
      "            jrows = get_rows(self.jac, j)\n",
      "            \n",
      "            new_grp_required = True\n",
      "            for idx, grp in enumerate(self.groups):\n",
      "                # Test whether rows are in in group\n",
      "                if len(self.rows[idx].intersection(jrows)) == 0:\n",
      "                    # Add to group, and break\n",
      "                    grp.append(j)\n",
      "                    self.rows[idx].update(jrows) # Set union \n",
      "                    new_grp_required = False\n",
      "                    break\n",
      "            # If we get to here, we need a new group\n",
      "            if new_grp_required:\n",
      "                self.groups.append([j])\n",
      "                self.rows.append(set(jrows))\n",
      "    \n",
      "    def evaluate_jac(self, x):\n",
      "        # First compute the step sizes : this should possibly be multiplied by abs(x) or something\n",
      "        h = np.finfo('float').eps **(1./3.)\n",
      "        ei = np.zeros(x.shape)\n",
      "        \n",
      "        for idx, grp in enumerate(self.groups):\n",
      "            ei[grp] = h\n",
      "            df = (self.fun(x + ei) - self.fun(x - ei)) / (2*h)\n",
      "            for j in grp:\n",
      "                I = get_rows(self.jac, j)\n",
      "                self.jac.data[self.jac.indptr[j]:self.jac.indptr[j+1]] = df[I]\n",
      "            ei[grp] = 0.\n",
      "                \n",
      "    \n",
      "                "
     ],
     "language": "python",
     "metadata": {},
     "outputs": [],
     "prompt_number": 5
    },
    {
     "cell_type": "heading",
     "level": 2,
     "metadata": {},
     "source": [
      "Warmup: Finite difference solver"
     ]
    },
    {
     "cell_type": "markdown",
     "metadata": {},
     "source": [
      "### The Brusselator\n",
      "The Brusselator is a simple PDE system that is capable of exhibiting some fairly complex behaviour. We use the following PDE description which allows for spatially varying parameters $a(x)$ and $b(x)$\n",
      "\\begin{align}\n",
      "    \\phi_t &= D_\\phi \\phi_{xx} + a(x) + \\phi^2\\psi - (b(x) + 1)\\phi \\\\\n",
      "    \\psi_t &= D_\\phi \\phi_{xx} + b(x) \\phi - \\phi^2 \\psi\n",
      "\\end{align}\n",
      "We complete the problem with boundary conditions:\n",
      "\\begin{align}\n",
      "    &\\phi_x(-1, t) = \\phi_x(1, t) = 0, & &\\psi_x(-1, t) = \\psi_x(1, t) = 0 \\\\\n",
      "    &\\phi(x, 0) = 1, & &\\psi(x, 0) = f(x).\n",
      "\\end{align}\n",
      "Let's define some functions $a(x), b(x), f(x)$:"
     ]
    },
    {
     "cell_type": "code",
     "collapsed": false,
     "input": [
      "def a(x): return np.ones(x.shape)\n",
      "def b(x): return 2 - x\n",
      "def f(x): return b(x) + 0.2*np.sin(4*np.pi*x)\n",
      "D_phi = 1e-3\n",
      "\n",
      "x = np.linspace(-1, 1, 200)\n",
      "plt.plot(x, a(x), x, b(x), x, f(x))\n",
      "plt.legend(('$a(x)$', '$b(x)$', '$f(x)$'))"
     ],
     "language": "python",
     "metadata": {},
     "outputs": [
      {
       "metadata": {},
       "output_type": "pyout",
       "prompt_number": 16,
       "text": [
        "<matplotlib.legend.Legend at 0x1071a4f90>"
       ]
      },
      {
       "metadata": {},
       "output_type": "display_data",
       "png": "[encoded data removed]",
       "text": [
        "<matplotlib.figure.Figure at 0x107140790>"
       ]
      }
     ],
     "prompt_number": 16
    },
    {
     "cell_type": "markdown",
     "metadata": {},
     "source": [
      "#### Kinetics\n",
      "Kinetics can be time-varying and space-varying, so we specify them as a function of `U, t, x`, where `U` represents the matrix of state variables at position `x` at time `t`. \n",
      "\n",
      "#### Inputs:\n",
      "* `U` is assumed to be of the form\n",
      "\\begin{equation}\n",
      "    U = \\begin{bmatrix}\n",
      "        \\phi_0 & \\psi_0 \\\\\n",
      "        \\phi_1 & \\psi_1 \\\\\n",
      "        \\vdots & \\vdots \\\\\n",
      "        \\phi_{n-1} & \\psi_{n-1}\n",
      "    \\end{bmatrix}\n",
      "\\end{equation}\n",
      "\n",
      "* `t` is a scalar\n",
      "\n",
      "* `x` is a vector of $n$ spatial coordinates"
     ]
    },
    {
     "cell_type": "code",
     "collapsed": false,
     "input": [
      "def kinetics(u, t, x):\n",
      "    return np.vstack((a(x) + u[:, 0]**2 * u[:, 1] - (b(x) + 1) * u[:, 0],\n",
      "                      b(x) * u[:, 0] - u[:, 0]**2 * u[:, 1])).T"
     ],
     "language": "python",
     "metadata": {},
     "outputs": [],
     "prompt_number": 7
    },
    {
     "cell_type": "markdown",
     "metadata": {},
     "source": [
      "#### Discretisation\n",
      "For now, we just set up the second derivative operator with assumed Neumann boundary conditions, *i.e.*\n",
      "\\begin{equation}\n",
      "    D^{(2)} = \\frac{1}{h^2}\\begin{bmatrix}\n",
      "        -2 & 2 \\\\\n",
      "        1  & -2 &  1 \\\\\n",
      "           &  1 & -2 & 1 \\\\\n",
      "           &    &  \\ddots & \\ddots & \\ddots \\\\\n",
      "           &    &         & 1      & -2 & 1 \\\\\n",
      "           &    &         &        &  1 & -2 & 1 \\\\\n",
      "           &    &         &        &    &  2 & -2\n",
      "       \\end{bmatrix}\n",
      "\\end{equation}\n",
      "           "
     ]
    },
    {
     "cell_type": "code",
     "collapsed": false,
     "input": [
      "def diff2(npts, h=1.):\n",
      "    \"\"\"\n",
      "    Create second derivative finite difference matrix, assuming Neumann boundary conditions\n",
      "    \"\"\"\n",
      "    diags = [np.zeros(npts) + 1., np.zeros(npts) - 2., np.zeros(npts) + 1.]\n",
      "    diags[0][1] = 2.\n",
      "    diags[2][-2] = 2.\n",
      "    return 1/(h**2) * scipy.sparse.dia_matrix((diags, [1, 0, -1]), shape=(npts,npts))"
     ],
     "language": "python",
     "metadata": {},
     "outputs": [],
     "prompt_number": 8
    },
    {
     "cell_type": "markdown",
     "metadata": {},
     "source": [
      "### Now, to set up the ODE stuff\n",
      "To stack the state variables as a single vector we order them as\n",
      "\\begin{equation*}\n",
      "    \\mathbf{u} = \\begin{bmatrix}\n",
      "        \\phi_0, \\psi_0, \\phi_1, \\psi_1, \\ldots, \\phi_{n-1}, \\psi_{n-1}\n",
      "    \\end{bmatrix}^T\n",
      "\\end{equation*}\n",
      "When the RHS function for the ODE is called it follows the following steps\n",
      "* Create a new view of the input vector in the `n x 2` shape\n",
      "* Compute the kinetics \n",
      "\n",
      "We also need to construct the Jacobian pattern for computing sparse Jacobians\n",
      "\n",
      "\n",
      "\n"
     ]
    },
    {
     "cell_type": "code",
     "collapsed": false,
     "input": [
      "npts = 201\n",
      "x = np.linspace(-1, 1, npts)\n",
      "h = (x[-1] - x[0]) / (npts - 1)\n",
      "diff_op = D_phi * diff2(npts, h)\n",
      "\n",
      "u0 = (np.array([np.zeros(npts) + 1., f(x)]).T).flatten()\n",
      "\n",
      "def rhs(u, t):\n",
      "    U = u.reshape((npts, 2))\n",
      "    du = kinetics(U, t, x) \n",
      "    du[:, 0] = du[:, 0] + diff_op.dot(U[:, 0])\n",
      "    return du.flatten()\n",
      "    \n",
      "# Jacobian pattern\n",
      "# block-diagonal portion: kinetics\n",
      "J1 = scipy.sparse.block_diag(np.tile(np.ones((2,2)), (npts,1,1)))\n",
      "\n",
      "# The other bit -- idx is the index of the variable with diffusion\n",
      "nvars = 2\n",
      "idx = 0\n",
      "D = diff2(npts, h).tocoo()\n",
      "rows, cols = nvars * D.row + idx, nvars * D.col + idx\n",
      "J2 = scipy.sparse.coo_matrix((D.data, (rows, cols)), shape=(nvars * npts, nvars * npts))\n",
      "Jpattern = J1.tocsc() + J2.tocsc()\n",
      "plt.spy(Jpattern)\n",
      "\n",
      "numjac = NumericalJacobian(lambda u: rhs(u, 0), Jpattern)\n",
      "\n",
      "def jac(u, t):\n",
      "    numjac.evaluate_jac(u)\n",
      "    return numjac.jac\n",
      "    \n",
      "print jac(u0, 0).shape\n"
     ],
     "language": "python",
     "metadata": {},
     "outputs": [
      {
       "output_type": "stream",
       "stream": "stdout",
       "text": [
        "(402, 402)\n"
       ]
      },
      {
       "metadata": {},
       "output_type": "display_data",
       "png": "[encoded data removed]",
       "text": [
        "<matplotlib.figure.Figure at 0x106d93390>"
       ]
      }
     ],
     "prompt_number": 9
    },
    {
     "cell_type": "code",
     "collapsed": false,
     "input": [
      "nt = 1000\n",
      "tf = 40.\n",
      "t = np.linspace(0, tf, nt)\n"
     ],
     "language": "python",
     "metadata": {},
     "outputs": [],
     "prompt_number": 10
    },
    {
     "cell_type": "code",
     "collapsed": false,
     "input": [
      "# Simulate using odeint (implicit)\n",
      "\n",
      "U = odeint(rhs, u0, t, Dfun=jac).T"
     ],
     "language": "python",
     "metadata": {},
     "outputs": [],
     "prompt_number": 11
    },
    {
     "cell_type": "code",
     "collapsed": false,
     "input": [
      "def rhs2(t, u):\n",
      "    return rhs(u, t)\n",
      "\n",
      "def jac2(t, u):\n",
      "    return jac(u, t)\n",
      "\n",
      "U = np.zeros((nt, 2*npts))\n",
      "U[0, :] = u0\n",
      "r = ode(rhs2, jac2).set_integrator('vode', method='bdf', with_jacobian=True)\n",
      "r.set_initial_value(u0, t[0])\n",
      "for i in range(1, nt):\n",
      "    r.integrate(t[i])\n",
      "    if not r.successful():\n",
      "        break\n",
      "    U[i, :] = r.y\n",
      "U = U.T"
     ],
     "language": "python",
     "metadata": {},
     "outputs": [
      {
       "ename": "ValueError",
       "evalue": "setting an array element with a sequence.",
       "output_type": "pyerr",
       "traceback": [
        "\u001b[0;31m---------------------------------------------------------------------------\u001b[0m\n\u001b[0;31mValueError\u001b[0m                                Traceback (most recent call last)",
        "\u001b[0;32m<ipython-input-14-4eae73f1ebfb>\u001b[0m in \u001b[0;36m<module>\u001b[0;34m()\u001b[0m\n\u001b[1;32m     10\u001b[0m \u001b[0mr\u001b[0m\u001b[0;34m.\u001b[0m\u001b[0mset_initial_value\u001b[0m\u001b[0;34m(\u001b[0m\u001b[0mu0\u001b[0m\u001b[0;34m,\u001b[0m \u001b[0mt\u001b[0m\u001b[0;34m[\u001b[0m\u001b[0;36m0\u001b[0m\u001b[0;34m]\u001b[0m\u001b[0;34m)\u001b[0m\u001b[0;34m\u001b[0m\u001b[0m\n\u001b[1;32m     11\u001b[0m \u001b[0;32mfor\u001b[0m \u001b[0mi\u001b[0m \u001b[0;32min\u001b[0m \u001b[0mrange\u001b[0m\u001b[0;34m(\u001b[0m\u001b[0;36m1\u001b[0m\u001b[0;34m,\u001b[0m \u001b[0mnt\u001b[0m\u001b[0;34m)\u001b[0m\u001b[0;34m:\u001b[0m\u001b[0;34m\u001b[0m\u001b[0m\n\u001b[0;32m---> 12\u001b[0;31m     \u001b[0mr\u001b[0m\u001b[0;34m.\u001b[0m\u001b[0mintegrate\u001b[0m\u001b[0;34m(\u001b[0m\u001b[0mt\u001b[0m\u001b[0;34m[\u001b[0m\u001b[0mi\u001b[0m\u001b[0;34m]\u001b[0m\u001b[0;34m)\u001b[0m\u001b[0;34m\u001b[0m\u001b[0m\n\u001b[0m\u001b[1;32m     13\u001b[0m     \u001b[0;32mif\u001b[0m \u001b[0;32mnot\u001b[0m \u001b[0mr\u001b[0m\u001b[0;34m.\u001b[0m\u001b[0msuccessful\u001b[0m\u001b[0;34m(\u001b[0m\u001b[0;34m)\u001b[0m\u001b[0;34m:\u001b[0m\u001b[0;34m\u001b[0m\u001b[0m\n\u001b[1;32m     14\u001b[0m         \u001b[0;32mbreak\u001b[0m\u001b[0;34m\u001b[0m\u001b[0m\n",
        "\u001b[0;32m/Users/rgbrown/anaconda/lib/python2.7/site-packages/scipy/integrate/_ode.pyc\u001b[0m in \u001b[0;36mintegrate\u001b[0;34m(self, t, step, relax)\u001b[0m\n\u001b[1;32m    386\u001b[0m             self._y, self.t = mth(self.f, self.jac or (lambda: None),\n\u001b[1;32m    387\u001b[0m                                 \u001b[0mself\u001b[0m\u001b[0;34m.\u001b[0m\u001b[0m_y\u001b[0m\u001b[0;34m,\u001b[0m \u001b[0mself\u001b[0m\u001b[0;34m.\u001b[0m\u001b[0mt\u001b[0m\u001b[0;34m,\u001b[0m \u001b[0mt\u001b[0m\u001b[0;34m,\u001b[0m\u001b[0;34m\u001b[0m\u001b[0m\n\u001b[0;32m--> 388\u001b[0;31m                                 self.f_params, self.jac_params)\n\u001b[0m\u001b[1;32m    389\u001b[0m         \u001b[0;32mexcept\u001b[0m \u001b[0mSystemError\u001b[0m\u001b[0;34m:\u001b[0m\u001b[0;34m\u001b[0m\u001b[0m\n\u001b[1;32m    390\u001b[0m             \u001b[0;31m# f2py issue with tuple returns, see ticket 1187.\u001b[0m\u001b[0;34m\u001b[0m\u001b[0;34m\u001b[0m\u001b[0m\n",
        "\u001b[0;32m/Users/rgbrown/anaconda/lib/python2.7/site-packages/scipy/integrate/_ode.pyc\u001b[0m in \u001b[0;36mrun\u001b[0;34m(self, *args)\u001b[0m\n\u001b[1;32m    735\u001b[0m             \u001b[0mself\u001b[0m\u001b[0;34m.\u001b[0m\u001b[0macquire_new_handle\u001b[0m\u001b[0;34m(\u001b[0m\u001b[0;34m)\u001b[0m\u001b[0;34m\u001b[0m\u001b[0m\n\u001b[1;32m    736\u001b[0m         y1, t, istate = self.runner(*(args[:5] + tuple(self.call_args) +\n\u001b[0;32m--> 737\u001b[0;31m                                       args[5:]))\n\u001b[0m\u001b[1;32m    738\u001b[0m         \u001b[0;32mif\u001b[0m \u001b[0mistate\u001b[0m \u001b[0;34m<\u001b[0m \u001b[0;36m0\u001b[0m\u001b[0;34m:\u001b[0m\u001b[0;34m\u001b[0m\u001b[0m\n\u001b[1;32m    739\u001b[0m             warnings.warn('vode: ' +\n",
        "\u001b[0;31mValueError\u001b[0m: setting an array element with a sequence."
       ]
      }
     ],
     "prompt_number": 14
    },
    {
     "cell_type": "code",
     "collapsed": false,
     "input": [
      "img = plt.imshow(U[1::2,:], extent=[0, tf, x[0], x[-1]], aspect='auto')\n",
      "img.set_cmap('hot')\n",
      "U.shape"
     ],
     "language": "python",
     "metadata": {},
     "outputs": [
      {
       "metadata": {},
       "output_type": "pyout",
       "prompt_number": 12,
       "text": [
        "(402, 1000)"
       ]
      },
      {
       "metadata": {},
       "output_type": "display_data",
       "png": "[encoded data removed]",
       "text": [
        "<matplotlib.figure.Figure at 0x106cb8a10>"
       ]
      }
     ],
     "prompt_number": 12
    },
    {
     "cell_type": "markdown",
     "metadata": {},
     "source": [
      "#### Sparse Jacobian estimation\n",
      "We code up the greedy Curtiss, Powell, Reid (1974) algorithm:\n",
      "\n",
      "When we perform an evaluation for a group, the perturbed $\\mathbf{x}$ vector will look like this:\n",
      "\\begin{equation}\n",
      "    \\mathbf{f}\\left(\\mathbf{x} + \\sum_{i \\in \\mathcal{K}} h_i \\mathbf{e}_i\\right)\n",
      "\\end{equation}\n",
      "We can find the appropriate entries in the Jacobian easily, because we have the list of columns $\\mathcal{K}$, so we can pluck out each column $j \\in \\mathcal{K}$ in turn, find the rows we need from the CSC format matrix, and then put those entries of $\\mathbf{df}$ into the appropriate matrix spot.\n",
      "\n",
      "This could be made more efficient by constructing an index vector that inserts the values straight into the `data` field of the matrix\n",
      "\n",
      "When computing the numerical derivatives, just using basic central differences (see Numerical Recipes, 3rd Ed, p230)"
     ]
    },
    {
     "cell_type": "code",
     "collapsed": false,
     "input": [
      "def myfun(x):\n",
      "    f = np.zeros(x.shape)\n",
      "    f[0] = x[0] * x[1]\n",
      "    f[1] = x[0]**2 + x[1]**2\n",
      "    f[2] = x[1]*x[2]**2\n",
      "    return f\n",
      "\n",
      "x = np.array([1., 1.5, 7.])\n",
      "pattern = np.ones((3,3))\n",
      "pattern[0,2] = 0\n",
      "pattern[2,0] = 0\n",
      "pattern[1,2] = 0\n",
      "J = NumericalJacobian(myfun, pattern)\n",
      "J.evaluate_jac(x)\n",
      "print J.jac.todense()\n"
     ],
     "language": "python",
     "metadata": {},
     "outputs": [
      {
       "output_type": "stream",
       "stream": "stdout",
       "text": [
        "[[  1.5   1.    0. ]\n",
        " [  2.    3.    0. ]\n",
        " [  0.   49.   21. ]]\n"
       ]
      }
     ],
     "prompt_number": 52
    },
    {
     "cell_type": "code",
     "collapsed": false,
     "input": [
      "J.rows, J.groups"
     ],
     "language": "python",
     "metadata": {},
     "outputs": [
      {
       "metadata": {},
       "output_type": "pyout",
       "prompt_number": 20,
       "text": [
        "([{0, 1, 2}, {0, 1, 2}], [[0, 2], [1]])"
       ]
      }
     ],
     "prompt_number": 20
    },
    {
     "cell_type": "code",
     "collapsed": false,
     "input": [
      "# Let's just define a basic problem\n",
      "from scipy.integrate import ode\n",
      "\n",
      "y0, t0 = [1.0, 2.0], 0\n",
      "def f(t, y):\n",
      "    arg1 = 2.0\n",
      "    return [arg1*y[0] + y[1], -arg1*y[1]**2]\n",
      "def jac(t, y):\n",
      "    arg1 = 2.0\n",
      "    return scipy.sparse.csc_matrix([[arg1, 1], [0, -arg1*2*y[1]]])\n",
      "\n",
      "#The integration:\n",
      "\n",
      "r = ode(f, jac).set_integrator('vode', method='bdf', with_jacobian=True)\n",
      "r.set_initial_value(y0, t0)\n",
      "t1 = 10\n",
      "dt = 1\n",
      "while r.successful() and r.t < t1:\n",
      "    r.integrate(r.t+dt)\n",
      "print r.t\n",
      "print r.y"
     ],
     "language": "python",
     "metadata": {},
     "outputs": [
      {
       "ename": "ValueError",
       "evalue": "setting an array element with a sequence.",
       "output_type": "pyerr",
       "traceback": [
        "\u001b[0;31m---------------------------------------------------------------------------\u001b[0m\n\u001b[0;31mValueError\u001b[0m                                Traceback (most recent call last)",
        "\u001b[0;32m<ipython-input-15-98fa50f980bb>\u001b[0m in \u001b[0;36m<module>\u001b[0;34m()\u001b[0m\n\u001b[1;32m     17\u001b[0m \u001b[0mdt\u001b[0m \u001b[0;34m=\u001b[0m \u001b[0;36m1\u001b[0m\u001b[0;34m\u001b[0m\u001b[0m\n\u001b[1;32m     18\u001b[0m \u001b[0;32mwhile\u001b[0m \u001b[0mr\u001b[0m\u001b[0;34m.\u001b[0m\u001b[0msuccessful\u001b[0m\u001b[0;34m(\u001b[0m\u001b[0;34m)\u001b[0m \u001b[0;32mand\u001b[0m \u001b[0mr\u001b[0m\u001b[0;34m.\u001b[0m\u001b[0mt\u001b[0m \u001b[0;34m<\u001b[0m \u001b[0mt1\u001b[0m\u001b[0;34m:\u001b[0m\u001b[0;34m\u001b[0m\u001b[0m\n\u001b[0;32m---> 19\u001b[0;31m     \u001b[0mr\u001b[0m\u001b[0;34m.\u001b[0m\u001b[0mintegrate\u001b[0m\u001b[0;34m(\u001b[0m\u001b[0mr\u001b[0m\u001b[0;34m.\u001b[0m\u001b[0mt\u001b[0m\u001b[0;34m+\u001b[0m\u001b[0mdt\u001b[0m\u001b[0;34m)\u001b[0m\u001b[0;34m\u001b[0m\u001b[0m\n\u001b[0m\u001b[1;32m     20\u001b[0m \u001b[0;32mprint\u001b[0m \u001b[0mr\u001b[0m\u001b[0;34m.\u001b[0m\u001b[0mt\u001b[0m\u001b[0;34m\u001b[0m\u001b[0m\n\u001b[1;32m     21\u001b[0m \u001b[0;32mprint\u001b[0m \u001b[0mr\u001b[0m\u001b[0;34m.\u001b[0m\u001b[0my\u001b[0m\u001b[0;34m\u001b[0m\u001b[0m\n",
        "\u001b[0;32m/Users/rgbrown/anaconda/lib/python2.7/site-packages/scipy/integrate/_ode.pyc\u001b[0m in \u001b[0;36mintegrate\u001b[0;34m(self, t, step, relax)\u001b[0m\n\u001b[1;32m    386\u001b[0m             self._y, self.t = mth(self.f, self.jac or (lambda: None),\n\u001b[1;32m    387\u001b[0m                                 \u001b[0mself\u001b[0m\u001b[0;34m.\u001b[0m\u001b[0m_y\u001b[0m\u001b[0;34m,\u001b[0m \u001b[0mself\u001b[0m\u001b[0;34m.\u001b[0m\u001b[0mt\u001b[0m\u001b[0;34m,\u001b[0m \u001b[0mt\u001b[0m\u001b[0;34m,\u001b[0m\u001b[0;34m\u001b[0m\u001b[0m\n\u001b[0;32m--> 388\u001b[0;31m                                 self.f_params, self.jac_params)\n\u001b[0m\u001b[1;32m    389\u001b[0m         \u001b[0;32mexcept\u001b[0m \u001b[0mSystemError\u001b[0m\u001b[0;34m:\u001b[0m\u001b[0;34m\u001b[0m\u001b[0m\n\u001b[1;32m    390\u001b[0m             \u001b[0;31m# f2py issue with tuple returns, see ticket 1187.\u001b[0m\u001b[0;34m\u001b[0m\u001b[0;34m\u001b[0m\u001b[0m\n",
        "\u001b[0;32m/Users/rgbrown/anaconda/lib/python2.7/site-packages/scipy/integrate/_ode.pyc\u001b[0m in \u001b[0;36mrun\u001b[0;34m(self, *args)\u001b[0m\n\u001b[1;32m    735\u001b[0m             \u001b[0mself\u001b[0m\u001b[0;34m.\u001b[0m\u001b[0macquire_new_handle\u001b[0m\u001b[0;34m(\u001b[0m\u001b[0;34m)\u001b[0m\u001b[0;34m\u001b[0m\u001b[0m\n\u001b[1;32m    736\u001b[0m         y1, t, istate = self.runner(*(args[:5] + tuple(self.call_args) +\n\u001b[0;32m--> 737\u001b[0;31m                                       args[5:]))\n\u001b[0m\u001b[1;32m    738\u001b[0m         \u001b[0;32mif\u001b[0m \u001b[0mistate\u001b[0m \u001b[0;34m<\u001b[0m \u001b[0;36m0\u001b[0m\u001b[0;34m:\u001b[0m\u001b[0;34m\u001b[0m\u001b[0m\n\u001b[1;32m    739\u001b[0m             warnings.warn('vode: ' +\n",
        "\u001b[0;31mValueError\u001b[0m: setting an array element with a sequence."
       ]
      }
     ],
     "prompt_number": 15
    }
   ],
   "metadata": {}
  }
 ]
}